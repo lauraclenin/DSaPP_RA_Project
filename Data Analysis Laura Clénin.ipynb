{
 "cells": [
  {
   "cell_type": "markdown",
   "metadata": {},
   "source": [
    "# Exploratory Analysis of Data"
   ]
  },
  {
   "cell_type": "code",
   "execution_count": 93,
   "metadata": {
    "collapsed": true
   },
   "outputs": [],
   "source": [
    "import matplotlib.pyplot as plt\n",
    "import numpy as np\n",
    "%matplotlib inline\n",
    "import pandas as pd\n",
    "import math"
   ]
  },
  {
   "cell_type": "code",
   "execution_count": 94,
   "metadata": {
    "collapsed": true
   },
   "outputs": [],
   "source": [
    "# Define path to data files\n",
    "f_donations = '../../Documents/Data/donations.csv'\n",
    "f_essays = '../../Documents/Data/essays.csv'\n",
    "f_projects = '../../Documents/Data/projects.csv'\n",
    "f_resources = '../../Documents/Data/resources.csv'\n",
    "f_outcomes = '../../Documents/Data/outcomes.csv'"
   ]
  },
  {
   "cell_type": "markdown",
   "metadata": {},
   "source": [
    "Loading the csv files into panda data frame to make it easier to access the data"
   ]
  },
  {
   "cell_type": "code",
   "execution_count": 4,
   "metadata": {
    "collapsed": false
   },
   "outputs": [
    {
     "name": "stdout",
     "output_type": "stream",
     "text": [
      "finished loading donations, total 3097989 rows loaded\n",
      "finished loading essays, total 664098 rows loaded\n",
      "finished loading projects, total 664098 rows loaded\n",
      "finished loading resources, total 3667217 rows loaded\n",
      "finished loading outcomes, total 619326 rows loaded\n"
     ]
    }
   ],
   "source": [
    "#load data\n",
    "data_don = pd.read_csv(f_donations)\n",
    "print(\"finished loading donations, total\", len(data_don) ,\"rows loaded\")\n",
    "data_ess = pd.read_csv(f_essays)\n",
    "print(\"finished loading essays, total\", len(data_ess) ,\"rows loaded\")\n",
    "data_pro = pd.read_csv(f_projects)\n",
    "print(\"finished loading projects, total\", len(data_pro), \"rows loaded\")\n",
    "data_res = pd.read_csv(f_resources)\n",
    "print(\"finished loading resources, total\", len(data_res), \"rows loaded\")\n",
    "data_out = pd.read_csv(f_outcomes)\n",
    "print(\"finished loading outcomes, total\", len(data_out), \"rows loaded\")"
   ]
  },
  {
   "cell_type": "markdown",
   "metadata": {},
   "source": [
    "First we look at the number of projects executed by schools with different poverty levels"
   ]
  },
  {
   "cell_type": "code",
   "execution_count": 96,
   "metadata": {
    "collapsed": false
   },
   "outputs": [
    {
     "name": "stderr",
     "output_type": "stream",
     "text": [
      "/Users/sivers/anaconda3/lib/python3.5/site-packages/ipykernel/__main__.py:2: FutureWarning: sort(columns=....) is deprecated, use sort_values(by=.....)\n",
      "  from ipykernel import kernelapp as app\n",
      "/Users/sivers/anaconda3/lib/python3.5/site-packages/ipykernel/__main__.py:3: FutureWarning: sort(columns=....) is deprecated, use sort_values(by=.....)\n",
      "  app.launch_new_instance()\n",
      "/Users/sivers/anaconda3/lib/python3.5/site-packages/ipykernel/__main__.py:4: FutureWarning: sort(columns=....) is deprecated, use sort_values(by=.....)\n",
      "/Users/sivers/anaconda3/lib/python3.5/site-packages/ipykernel/__main__.py:5: FutureWarning: sort(columns=....) is deprecated, use sort_values(by=.....)\n",
      "/Users/sivers/anaconda3/lib/python3.5/site-packages/ipykernel/__main__.py:6: FutureWarning: sort(columns=....) is deprecated, use sort_values(by=.....)\n"
     ]
    }
   ],
   "source": [
    "# sort data by projectid to make sure the indizes match\n",
    "data_don_sort = data_don.sort(['projectid']).reset_index()\n",
    "data_ess_sort = data_ess.sort(['projectid']).reset_index()\n",
    "data_pro_sort = data_pro.sort(['projectid']).reset_index()\n",
    "data_res_sort = data_res.sort(['projectid']).reset_index()\n",
    "data_out_sort = data_out.sort(['projectid']).reset_index()"
   ]
  },
  {
   "cell_type": "code",
   "execution_count": 99,
   "metadata": {
    "collapsed": false
   },
   "outputs": [
    {
     "name": "stdout",
     "output_type": "stream",
     "text": [
      "0\n",
      "100000\n",
      "200000\n",
      "300000\n",
      "400000\n",
      "500000\n",
      "600000\n"
     ]
    }
   ],
   "source": [
    "# counting the number of projects sorted by level of poverty\n",
    "# Jumper is needed as the data files outcomes.csv and projects.csv do not contain exactly the same number of projects since projects.csv also contains the test set\n",
    "jumper=0\n",
    "highestpoverty=0\n",
    "highpoverty=0\n",
    "moderatepoverty=0\n",
    "lowpoverty=0\n",
    "for i in range(0,len(data_out_sort)):\n",
    "    if i%100000 == 0:\n",
    "        print(i)\n",
    "    while data_out_sort['projectid'][i] != data_pro_sort['projectid'][i+jumper]:\n",
    "        jumper += 1\n",
    "    if data_pro_sort['poverty_level'][i+jumper] == 'highest poverty':\n",
    "        highestpoverty +=1\n",
    "    if data_pro_sort['poverty_level'][i+jumper] == 'high poverty':\n",
    "        highpoverty +=1\n",
    "    if data_pro_sort['poverty_level'][i+jumper] == 'moderate poverty':\n",
    "        moderatepoverty +=1\n",
    "    if data_pro_sort['poverty_level'][i+jumper] == 'low poverty':\n",
    "        lowpoverty +=1"
   ]
  },
  {
   "cell_type": "markdown",
   "metadata": {},
   "source": [
    "Below you can find a tabel of the ratio of the number of projects initialized at schools of different poverty levels per total of projects"
   ]
  },
  {
   "cell_type": "code",
   "execution_count": 27,
   "metadata": {
    "collapsed": false
   },
   "outputs": [
    {
     "name": "stdout",
     "output_type": "stream",
     "text": [
      "highest poverty 0.5395649437281846\n",
      "high poverty 0.243845034919545\n",
      "moderate poverty 0.12618167800535462\n",
      "low poverty 0.02299058271520167\n"
     ]
    }
   ],
   "source": [
    "print('highest poverty', highestpoverty/len(data_pro_sort))\n",
    "print('high poverty', highpoverty/len(data_pro_sort))\n",
    "print('moderate poverty', moderatepoverty/len(data_pro_sort))\n",
    "print('low poverty', lowpoverty/len(data_pro_sort))"
   ]
  },
  {
   "cell_type": "markdown",
   "metadata": {},
   "source": [
    "Let us have a look at how many of the projects were fully funded"
   ]
  },
  {
   "cell_type": "code",
   "execution_count": 28,
   "metadata": {
    "collapsed": false
   },
   "outputs": [
    {
     "name": "stdout",
     "output_type": "stream",
     "text": [
      "0\n",
      "100000\n",
      "200000\n",
      "300000\n",
      "400000\n",
      "500000\n",
      "600000\n"
     ]
    }
   ],
   "source": [
    "jumper=0\n",
    "fullyfoundedhighest=0\n",
    "fullyfoundedhigh=0\n",
    "fullyfoundedmoderate=0\n",
    "fullyfoundedlow=0\n",
    "for i in range(0,len(data_out_sort)):\n",
    "    if i%100000 == 0:\n",
    "        print(i)\n",
    "    while data_out_sort['projectid'][i] != data_pro_sort['projectid'][i+jumper]:\n",
    "        jumper += 1\n",
    "    if data_pro_sort['poverty_level'][i+jumper] == 'highest poverty' and data_out_sort['fully_funded'][i] == 't':\n",
    "        fullyfoundedhighest +=1\n",
    "    if data_pro_sort['poverty_level'][i+jumper] == 'high poverty' and data_out_sort['fully_funded'][i] == 't':\n",
    "        fullyfoundedhigh +=1\n",
    "    if data_pro_sort['poverty_level'][i+jumper] == 'moderate poverty' and data_out_sort['fully_funded'][i] == 't':\n",
    "        fullyfoundedmoderate +=1\n",
    "    if data_pro_sort['poverty_level'][i+jumper] == 'low poverty' and data_out_sort['fully_funded'][i] == 't':\n",
    "        fullyfoundedlow +=1        "
   ]
  },
  {
   "cell_type": "markdown",
   "metadata": {},
   "source": [
    "Below you find a tabel with the ratio of fully founded projects sorted by poverty level of school per initialized projects per level of poverty. Additionally, the statistical error is added."
   ]
  },
  {
   "cell_type": "code",
   "execution_count": 47,
   "metadata": {
    "collapsed": false
   },
   "outputs": [
    {
     "name": "stdout",
     "output_type": "stream",
     "text": [
      "fullyfounded highest poverty 0.7863581563054666 pm 0.00197996046136158\n",
      "fullyfounded high poverty 0.7136108486633691 pm 0.001091002995757189\n",
      "fullyfounded moderate poverty 0.70284139050324 pm 0.0007308220010882215\n",
      "fullyfounded low poverty 0.7313335079905685 pm 0.00029945826908271765\n"
     ]
    }
   ],
   "source": [
    "print('fullyfounded highest poverty', fullyfoundedhighest/highestpoverty,\"pm\",math.sqrt(fullyfoundedhighest/(highestpoverty**2) + fullyfoundedhighest**2/highestpoverty**3))\n",
    "print('fullyfounded high poverty', fullyfoundedhigh/highpoverty, \"pm\",math.sqrt(fullyfoundedhigh/(highestpoverty**2) + fullyfoundedhigh**2/highestpoverty**3))\n",
    "print('fullyfounded moderate poverty', fullyfoundedmoderate/moderatepoverty, \"pm\",math.sqrt(fullyfoundedmoderate/(highestpoverty**2) + fullyfoundedmoderate**2/highestpoverty**3))\n",
    "print('fullyfounded low poverty', fullyfoundedlow/lowpoverty, \"pm\",math.sqrt(fullyfoundedlow/(highestpoverty**2) + fullyfoundedlow**2/highestpoverty**3))"
   ]
  },
  {
   "cell_type": "markdown",
   "metadata": {},
   "source": [
    "The number of exciting projects per poverty level is counted below. Also, in the same loop the cost per student for exciting projects and all projects is calculated below. This will be used to make a histogram."
   ]
  },
  {
   "cell_type": "code",
   "execution_count": 48,
   "metadata": {
    "collapsed": false
   },
   "outputs": [
    {
     "name": "stdout",
     "output_type": "stream",
     "text": [
      "0\n",
      "100000\n",
      "200000\n",
      "300000\n",
      "400000\n",
      "500000\n",
      "600000\n"
     ]
    }
   ],
   "source": [
    "jumper=0\n",
    "isexcitinghighest=0\n",
    "isexcitinghigh=0\n",
    "isexcitingmoderate=0\n",
    "isexcitinglow=0\n",
    "\n",
    "cost_per_student_exc = []\n",
    "cost_per_student = []\n",
    "\n",
    "for i in range(0,len(data_out_sort)):\n",
    "    if i%100000 == 0:\n",
    "        print(i)\n",
    "    while data_out_sort['projectid'][i] != data_pro_sort['projectid'][i+jumper]:\n",
    "        jumper += 1\n",
    "    #is exciting per poverty level\n",
    "    if data_pro_sort['poverty_level'][i+jumper] == 'highest poverty' and data_out_sort['is_exciting'][i] == 't':\n",
    "        isexcitinghighest +=1\n",
    "    if data_pro_sort['poverty_level'][i+jumper] == 'high poverty' and data_out_sort['is_exciting'][i] == 't':\n",
    "        isexcitinghigh +=1\n",
    "    if data_pro_sort['poverty_level'][i+jumper] == 'moderate poverty' and data_out_sort['is_exciting'][i] == 't':\n",
    "        isexcitingmoderate +=1\n",
    "    if data_pro_sort['poverty_level'][i+jumper] == 'low poverty' and data_out_sort['is_exciting'][i] == 't':\n",
    "        isexcitinglow +=1        \n",
    "    # cost per student for exciting projects\n",
    "    if data_out_sort['is_exciting'][i] == 't':\n",
    "        cost_per_student_exc.append(data_pro_sort['total_price_including_optional_support'][i+jumper]/data_pro_sort['students_reached'][i+jumper])\n",
    "    # cost per student\n",
    "    cost_per_student.append(data_pro_sort['total_price_including_optional_support'][i+jumper]/data_pro_sort['students_reached'][i+jumper])"
   ]
  },
  {
   "cell_type": "markdown",
   "metadata": {},
   "source": [
    "The ratio of exciting projects per poverty level of the school and the statistical error are listed below"
   ]
  },
  {
   "cell_type": "code",
   "execution_count": 46,
   "metadata": {
    "collapsed": false,
    "scrolled": true
   },
   "outputs": [
    {
     "name": "stdout",
     "output_type": "stream",
     "text": [
      "isexciting highest poverty 0.06000435360176823 pm 0.00042131532503625975\n",
      "isexciting high poverty 0.055447488838251915 pm 0.0006011546514954404\n",
      "isexciting moderate poverty 0.06304521641586214 pm 0.0008943092099243616\n",
      "isexciting low poverty 0.06202515064186534 pm 0.0020771135511448847\n"
     ]
    }
   ],
   "source": [
    "print('isexciting highest poverty', isexcitinghighest/highestpoverty,\"pm\",math.sqrt(isexcitinghighest/(highestpoverty**2) + isexcitinghighest**2/highestpoverty**3))\n",
    "print('isexciting high poverty', isexcitinghigh/highpoverty,\"pm\",math.sqrt(isexcitinghigh/(highpoverty**2) + isexcitinghigh**2/highpoverty**3))\n",
    "print('isexciting moderate poverty', isexcitingmoderate/moderatepoverty,\"pm\",math.sqrt(isexcitingmoderate/(moderatepoverty**2) + isexcitingmoderate**2/moderatepoverty**3))\n",
    "print('isexciting low poverty', isexcitinglow/lowpoverty,\"pm\",math.sqrt(isexcitinglow/(lowpoverty**2) + isexcitinglow**2/lowpoverty**3))"
   ]
  },
  {
   "cell_type": "markdown",
   "metadata": {},
   "source": [
    "The histogram below shows the number of projects matched to the average cost per student reached, for exciting projects and also for all the projects. The values of the y-axis are logarithmized."
   ]
  },
  {
   "cell_type": "code",
   "execution_count": 54,
   "metadata": {
    "collapsed": false
   },
   "outputs": [
    {
     "data": {
      "image/png": "[encoded data removed]",
      "text/plain": [
       "<matplotlib.figure.Figure at 0x1addee0f0>"
      ]
     },
     "metadata": {},
     "output_type": "display_data"
    }
   ],
   "source": [
    "#plot cost per student\n",
    "plt.figure(figsize=(10,7))\n",
    "bins = np.linspace(0,700,70)\n",
    "\n",
    "n1 = plt.hist(cost_per_student_exc, bins, alpha = 0.5, label=\"test\", color='r')\n",
    "n2 = plt.hist(cost_per_student, bins, alpha = 0.5, label=\"test\", color='b')\n",
    "plt.yscale('log')\n",
    "plt.xlabel('total cost per student',fontsize=20)\n",
    "plt.ylabel('counts (log)', fontsize=20)\n",
    "plt.show()  "
   ]
  },
  {
   "cell_type": "markdown",
   "metadata": {},
   "source": [
    "It could be interesting to look at the ratio of the two histograms above. This is displayed below in a scatterplot"
   ]
  },
  {
   "cell_type": "code",
   "execution_count": 89,
   "metadata": {
    "collapsed": false
   },
   "outputs": [],
   "source": [
    "n3=[]\n",
    "n4=[]\n",
    "for i in range(0,len(n1[0])):\n",
    "    n3.append(n1[0][i]/n2[0][i])\n",
    "    n4.append(n1[1][i]+10.14492754/2.) "
   ]
  },
  {
   "cell_type": "code",
   "execution_count": 92,
   "metadata": {
    "collapsed": false
   },
   "outputs": [
    {
     "name": "stderr",
     "output_type": "stream",
     "text": [
      "/Users/sivers/anaconda3/lib/python3.5/site-packages/matplotlib/collections.py:590: FutureWarning: elementwise comparison failed; returning scalar instead, but in the future will perform elementwise comparison\n",
      "  if self._edgecolors == str('face'):\n"
     ]
    },
    {
     "data": {
      "image/png": "[encoded data removed]",
      "text/plain": [
       "<matplotlib.figure.Figure at 0x1a5a29eb8>"
      ]
     },
     "metadata": {},
     "output_type": "display_data"
    }
   ],
   "source": [
    "#sucess rate as function of cost per student\n",
    "plt.figure(figsize=(10,7))\n",
    "bins = np.linspace(0,700,70)\n",
    "\n",
    "plt.scatter(n4,n3, alpha = 0.5, label=\"test\", color='r')\n",
    "plt.xlabel('total cost per student',fontsize=20)\n",
    "plt.ylabel('exciting/total', fontsize=20)\n",
    "plt.show()  "
   ]
  },
  {
   "cell_type": "markdown",
   "metadata": {},
   "source": [
    "## Conclusion\n",
    "The number of initialized projects at schools with the highest poverty level is especially high. This could be the case as schools with the highest poverty level need to fund a higher number of their projects and low poverty schools can provide the money directly from themselves. What can be seen too is that a very high number of the projects are fully founded not depending on the level of poverty but only a very small number of projects is marked as exciting. In my view this seems to be a problem, either because the parameters for the definition of an exciting project are set in the wrong way or the projects are really not exciting. \n",
    "Additionally, I looked at the cost per student only regarding exciting projects and also of all the projects. What can be said is that a higher amount of money does not increase the chance of having an exciting project. Does this mean that exciting projects do not depend on the amount of money spent per student? This should in my view be investigated further."
   ]
  },
  {
   "cell_type": "markdown",
   "metadata": {},
   "source": [
    "# A Data Story"
   ]
  },
  {
   "cell_type": "code",
   "execution_count": 100,
   "metadata": {
    "collapsed": false
   },
   "outputs": [
    {
     "data": {
      "text/plain": [
       "'00cb0cf6fc2d8bc03493d88a6a453e92'"
      ]
     },
     "execution_count": 100,
     "metadata": {},
     "output_type": "execute_result"
    }
   ],
   "source": [
    "data_pro['projectid'][664085]"
   ]
  },
  {
   "cell_type": "code",
   "execution_count": 101,
   "metadata": {
    "collapsed": true
   },
   "outputs": [],
   "source": [
    "mathproject=data_ess[data_ess['projectid'].str.contains(\"00cb0cf6fc2d8bc03493d88a6a453e92\")]"
   ]
  },
  {
   "cell_type": "code",
   "execution_count": 102,
   "metadata": {
    "collapsed": false
   },
   "outputs": [
    {
     "data": {
      "text/plain": [
       "662067    Make math fun!!!\n",
       "Name: title, dtype: object"
      ]
     },
     "execution_count": 102,
     "metadata": {},
     "output_type": "execute_result"
    }
   ],
   "source": [
    "mathproject['title']"
   ]
  },
  {
   "cell_type": "code",
   "execution_count": 103,
   "metadata": {
    "collapsed": false
   },
   "outputs": [
    {
     "name": "stdout",
     "output_type": "stream",
     "text": [
      "I am a fifth grade teacher at IS 174 in the Soundview section of the Bronx.  About 90% of our children qualify for free lunch, and about 15% of fifth graders were on grade level in math last year.  There are two main reasons for math failure:  lack of understanding and dislike of the subject.  These two go hand in hand.\r",
      "\\n\r",
      "\\nIn order to both increase the understanding and the interest of my students, I want to integrate technology into the classroom.  I can do this through the TI-15 calculator which allows practice with fractions, long division with remainders, rounding numbers, place value, and more.\r",
      "\\n\r",
      "\\nSo that I can properly teach my students to use these tools, I need a way to demonstrate to all of them what I am doing on my calculator.  The overhead TI-15 allows me to project what is on my screen so the whole class can participate in the activity.  Thus, we could all discuss how the mathematics behind what we do, making this overhead TI-15 an invaluable tool for my classroom.\n"
     ]
    }
   ],
   "source": [
    "print(mathproject['essay'][662067])"
   ]
  },
  {
   "cell_type": "code",
   "execution_count": 104,
   "metadata": {
    "collapsed": false
   },
   "outputs": [
    {
     "data": {
      "text/html": [
       "<div>\n",
       "<table border=\"1\" class=\"dataframe\">\n",
       "  <thead>\n",
       "    <tr style=\"text-align: right;\">\n",
       "      <th></th>\n",
       "      <th>projectid</th>\n",
       "      <th>teacher_acctid</th>\n",
       "      <th>title</th>\n",
       "      <th>short_description</th>\n",
       "      <th>need_statement</th>\n",
       "      <th>essay</th>\n",
       "    </tr>\n",
       "  </thead>\n",
       "  <tbody>\n",
       "    <tr>\n",
       "      <th>662067</th>\n",
       "      <td>00cb0cf6fc2d8bc03493d88a6a453e92</td>\n",
       "      <td>dbc7f5e6785159e1a0e203b026ec32ba</td>\n",
       "      <td>Make math fun!!!</td>\n",
       "      <td>I am a fifth grade teacher at IS 174 in the So...</td>\n",
       "      <td>The cost of this proposal is $102, including s...</td>\n",
       "      <td>I am a fifth grade teacher at IS 174 in the So...</td>\n",
       "    </tr>\n",
       "  </tbody>\n",
       "</table>\n",
       "</div>"
      ],
      "text/plain": [
       "                               projectid                    teacher_acctid  \\\n",
       "662067  00cb0cf6fc2d8bc03493d88a6a453e92  dbc7f5e6785159e1a0e203b026ec32ba   \n",
       "\n",
       "                   title                                  short_description  \\\n",
       "662067  Make math fun!!!  I am a fifth grade teacher at IS 174 in the So...   \n",
       "\n",
       "                                           need_statement  \\\n",
       "662067  The cost of this proposal is $102, including s...   \n",
       "\n",
       "                                                    essay  \n",
       "662067  I am a fifth grade teacher at IS 174 in the So...  "
      ]
     },
     "execution_count": 104,
     "metadata": {},
     "output_type": "execute_result"
    }
   ],
   "source": [
    "mathproject"
   ]
  },
  {
   "cell_type": "code",
   "execution_count": 105,
   "metadata": {
    "collapsed": true
   },
   "outputs": [],
   "source": [
    "mathproject2=data_pro[data_pro['projectid'].str.contains(\"00cb0cf6fc2d8bc03493d88a6a453e92\")]"
   ]
  },
  {
   "cell_type": "code",
   "execution_count": 110,
   "metadata": {
    "collapsed": false
   },
   "outputs": [
    {
     "data": {
      "text/plain": [
       "664085    Math & Science\n",
       "Name: primary_focus_area, dtype: object"
      ]
     },
     "execution_count": 110,
     "metadata": {},
     "output_type": "execute_result"
    }
   ],
   "source": [
    "mathproject2['primary_focus_area']"
   ]
  },
  {
   "cell_type": "code",
   "execution_count": 111,
   "metadata": {
    "collapsed": false
   },
   "outputs": [
    {
     "data": {
      "text/plain": [
       "664085    Technology\n",
       "Name: resource_type, dtype: object"
      ]
     },
     "execution_count": 111,
     "metadata": {},
     "output_type": "execute_result"
    }
   ],
   "source": [
    "mathproject2['resource_type']"
   ]
  },
  {
   "cell_type": "code",
   "execution_count": 112,
   "metadata": {
    "collapsed": false
   },
   "outputs": [
    {
     "data": {
      "text/plain": [
       "664085    highest poverty\n",
       "Name: poverty_level, dtype: object"
      ]
     },
     "execution_count": 112,
     "metadata": {},
     "output_type": "execute_result"
    }
   ],
   "source": [
    "mathproject2['poverty_level']"
   ]
  },
  {
   "cell_type": "code",
   "execution_count": 113,
   "metadata": {
    "collapsed": false
   },
   "outputs": [
    {
     "data": {
      "text/plain": [
       "664085    Grades 6-8\n",
       "Name: grade_level, dtype: object"
      ]
     },
     "execution_count": 113,
     "metadata": {},
     "output_type": "execute_result"
    }
   ],
   "source": [
    "mathproject2['grade_level']"
   ]
  },
  {
   "cell_type": "code",
   "execution_count": 114,
   "metadata": {
    "collapsed": false
   },
   "outputs": [
    {
     "data": {
      "text/plain": [
       "664085   NaN\n",
       "Name: fulfillment_labor_materials, dtype: float64"
      ]
     },
     "execution_count": 114,
     "metadata": {},
     "output_type": "execute_result"
    }
   ],
   "source": [
    "mathproject2['fulfillment_labor_materials']"
   ]
  },
  {
   "cell_type": "code",
   "execution_count": 115,
   "metadata": {
    "collapsed": false
   },
   "outputs": [
    {
     "data": {
      "text/plain": [
       "664085    101.22\n",
       "Name: total_price_including_optional_support, dtype: float64"
      ]
     },
     "execution_count": 115,
     "metadata": {},
     "output_type": "execute_result"
    }
   ],
   "source": [
    "mathproject2['total_price_including_optional_support']"
   ]
  },
  {
   "cell_type": "code",
   "execution_count": 116,
   "metadata": {
    "collapsed": false
   },
   "outputs": [
    {
     "data": {
      "text/plain": [
       "664085    83\n",
       "Name: total_price_excluding_optional_support, dtype: float64"
      ]
     },
     "execution_count": 116,
     "metadata": {},
     "output_type": "execute_result"
    }
   ],
   "source": [
    "mathproject2['total_price_excluding_optional_support']"
   ]
  },
  {
   "cell_type": "code",
   "execution_count": 117,
   "metadata": {
    "collapsed": true
   },
   "outputs": [],
   "source": [
    "mathproject3=data_out[data_out['projectid'].str.contains(\"00cb0cf6fc2d8bc03493d88a6a453e92\")]"
   ]
  },
  {
   "cell_type": "code",
   "execution_count": 118,
   "metadata": {
    "collapsed": false
   },
   "outputs": [
    {
     "data": {
      "text/plain": [
       "617423    f\n",
       "Name: is_exciting, dtype: object"
      ]
     },
     "execution_count": 118,
     "metadata": {},
     "output_type": "execute_result"
    }
   ],
   "source": [
    "mathproject3['is_exciting']"
   ]
  },
  {
   "cell_type": "code",
   "execution_count": 119,
   "metadata": {
    "collapsed": false
   },
   "outputs": [
    {
     "data": {
      "text/plain": [
       "617423    t\n",
       "Name: fully_funded, dtype: object"
      ]
     },
     "execution_count": 119,
     "metadata": {},
     "output_type": "execute_result"
    }
   ],
   "source": [
    "mathproject3['fully_funded']"
   ]
  },
  {
   "cell_type": "code",
   "execution_count": 120,
   "metadata": {
    "collapsed": false
   },
   "outputs": [
    {
     "data": {
      "text/plain": [
       "617423    0\n",
       "Name: teacher_referred_count, dtype: float64"
      ]
     },
     "execution_count": 120,
     "metadata": {},
     "output_type": "execute_result"
    }
   ],
   "source": [
    "mathproject3['teacher_referred_count']"
   ]
  },
  {
   "cell_type": "markdown",
   "metadata": {},
   "source": [
    "## Conclusion\n",
    "The project I am looking at is a maths project at a school of the highest poverty level. The project was not marked as exciting and needed only 83$ or 101.22$ depending if you include the optional support. The project was about a overhead calculator that can be used to look at it with the whole class and the teacher can discuss calculations in this context. This project was fully funded and the teacher did not need a lot of money to initialize the project. It would be interesting to see if there are similar projects in other schools with a lower poverty level. I would guess that this schools do not need public funding for so small projects."
   ]
  },
  {
   "cell_type": "markdown",
   "metadata": {},
   "source": [
    "# Questions for the Project Partner"
   ]
  },
  {
   "cell_type": "markdown",
   "metadata": {},
   "source": [
    "My main focus for further investigation would be two main points:\n",
    "\n",
    "\n",
    "Nr. 1: Are there other possibilities to mark a project as exciting. How could this definition be changed? How could this be verrified?\n",
    "In this context I would need for example an evaluation by the students for each project maybe within the range of school grades.\n",
    "\n",
    "Nr. 2: What about projects that were not funded by the public? How is the ratio at different schools comparing public funded projects and projects funded directly by the school? Are these non public funded projects cheaper or more numerous in low powerty schools? \n",
    "For this investigation I would like to have the same data concerning projects that were funded by the school directly."
   ]
  },
  {
   "cell_type": "code",
   "execution_count": null,
   "metadata": {
    "collapsed": true
   },
   "outputs": [],
   "source": []
  }
 ],
 "metadata": {
  "kernelspec": {
   "display_name": "Python 3",
   "language": "python",
   "name": "python3"
  },
  "language_info": {
   "codemirror_mode": {
    "name": "ipython",
    "version": 3
   },
   "file_extension": ".py",
   "mimetype": "text/x-python",
   "name": "python",
   "nbconvert_exporter": "python",
   "pygments_lexer": "ipython3",
   "version": "3.5.1"
  }
 },
 "nbformat": 4,
 "nbformat_minor": 0
}
